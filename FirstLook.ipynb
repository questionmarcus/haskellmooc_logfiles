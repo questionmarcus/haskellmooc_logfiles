{
 "cells": [
  {
   "cell_type": "markdown",
   "metadata": {},
   "source": [
    "# Haskell Mook Files - First look"
   ]
  },
  {
   "cell_type": "markdown",
   "metadata": {},
   "source": [
    "## Load in json data"
   ]
  },
  {
   "cell_type": "code",
   "execution_count": 1,
   "metadata": {},
   "outputs": [],
   "source": [
    "from json import loads"
   ]
  },
  {
   "cell_type": "code",
   "execution_count": 2,
   "metadata": {},
   "outputs": [],
   "source": [
    "with open(\"logdata.json\") as f:\n",
    "    data = loads(f.readlines()[0])"
   ]
  },
  {
   "cell_type": "markdown",
   "metadata": {},
   "source": [
    "Number of distinct users, according to the IP adresses"
   ]
  },
  {
   "cell_type": "code",
   "execution_count": 3,
   "metadata": {},
   "outputs": [
    {
     "data": {
      "text/plain": [
       "3232"
      ]
     },
     "execution_count": 3,
     "metadata": {},
     "output_type": "execute_result"
    }
   ],
   "source": [
    "len(data)"
   ]
  },
  {
   "cell_type": "markdown",
   "metadata": {},
   "source": [
    "## Analysis Preamble"
   ]
  },
  {
   "cell_type": "code",
   "execution_count": 45,
   "metadata": {},
   "outputs": [],
   "source": [
    "import numpy as np\n",
    "import matplotlib.pyplot as plt\n",
    "import datetime\n",
    "from collections import Counter\n",
    "%matplotlib inline\n",
    "%config InlineBackend.print_figure_kwargs = {'bbox_inches':None}"
   ]
  },
  {
   "cell_type": "markdown",
   "metadata": {},
   "source": [
    "## Number  of lines of code written  per user"
   ]
  },
  {
   "cell_type": "code",
   "execution_count": 5,
   "metadata": {},
   "outputs": [],
   "source": [
    "nCodeLines = []\n",
    "for user in data:\n",
    "    nCodeLines.append(len(data[user]))"
   ]
  },
  {
   "cell_type": "code",
   "execution_count": 6,
   "metadata": {},
   "outputs": [
    {
     "data": {
      "text/plain": [
       "(array([ 3,  4,  6,  7,  8, 11, 18, 12, 23, 30, 28, 32, 24, 34, 41, 34, 48,\n",
       "        41, 36, 46, 43, 61, 52, 53, 46, 57, 50, 46, 43, 52, 47, 48, 37, 51,\n",
       "        48, 52, 57, 45, 56, 51, 38, 53, 61, 37, 52, 47, 38, 47, 35, 38, 39,\n",
       "        46, 39, 44, 41, 29, 46, 37, 46, 33, 30, 36, 39, 20, 32, 20, 31, 42,\n",
       "        25, 24, 30, 26, 20, 11, 22, 24, 23, 12, 16, 12, 19, 10, 17, 17, 14,\n",
       "        15, 16, 12,  6, 10, 13,  7, 18,  9, 10, 14,  5,  9,  6,  6,  7,  2,\n",
       "         2, 10,  5,  6,  7,  5,  7,  8,  6,  5,  4,  2,  8,  4,  4,  2,  2,\n",
       "         5,  0,  2,  1,  4,  0,  3,  0,  5,  2,  4,  1,  3,  1,  3,  2,  0,\n",
       "         0,  1,  2,  2,  0,  0,  1,  0,  2,  0,  2,  2,  2,  0,  0,  2,  2,\n",
       "         0,  0,  1,  0,  1,  1,  2,  1,  2,  1,  0,  0,  0,  0,  0,  2,  0,\n",
       "         0,  0,  1,  0,  0,  0,  2,  0,  0,  0,  0,  0,  0,  0,  0,  1,  0,\n",
       "         0,  0,  0,  1,  1,  0,  1,  0,  0,  0,  0,  0,  0,  0,  2,  0,  0,\n",
       "         0,  1,  0,  0,  0,  0,  0,  0,  0,  0,  0,  1,  0,  0,  0,  0,  0,\n",
       "         0,  0,  1,  0,  0,  0,  0,  0,  0,  0,  0,  0,  0,  1,  0,  0,  1,\n",
       "         0,  0,  0,  0,  0,  0,  0,  0,  0,  0,  0,  0,  0,  0,  0,  0,  0,\n",
       "         0,  0,  0,  0,  0,  0,  0,  0,  0,  0,  0,  0,  0,  0,  0,  0,  0,\n",
       "         0,  0,  0,  0,  0,  0,  0,  0,  0,  0,  0,  0,  0,  0,  0,  0,  0,\n",
       "         0,  0,  0,  0,  0,  0,  0,  0,  1,  0,  0,  0,  0,  0,  0,  0,  0,\n",
       "         0,  0,  0,  0,  0,  0,  0,  0,  0,  0,  0,  0,  0,  0,  0,  0,  0,\n",
       "         0,  0,  0,  0,  0,  0,  0,  0,  0,  0,  0,  0,  0,  0,  0,  0,  0,\n",
       "         0,  0,  0,  0,  0,  0,  0,  0,  0,  0,  0,  0,  0,  0,  0,  0,  0,\n",
       "         0,  0,  0,  0,  0,  0,  0,  0,  0,  0,  0,  0,  0,  0,  0,  0,  0,\n",
       "         0,  0,  0,  0,  0,  0,  0,  0,  0,  0,  0,  1]),\n",
       " array([  1,   2,   3,   4,   5,   6,   7,   8,   9,  10,  11,  12,  13,\n",
       "         14,  15,  16,  17,  18,  19,  20,  21,  22,  23,  24,  25,  26,\n",
       "         27,  28,  29,  30,  31,  32,  33,  34,  35,  36,  37,  38,  39,\n",
       "         40,  41,  42,  43,  44,  45,  46,  47,  48,  49,  50,  51,  52,\n",
       "         53,  54,  55,  56,  57,  58,  59,  60,  61,  62,  63,  64,  65,\n",
       "         66,  67,  68,  69,  70,  71,  72,  73,  74,  75,  76,  77,  78,\n",
       "         79,  80,  81,  82,  83,  84,  85,  86,  87,  88,  89,  90,  91,\n",
       "         92,  93,  94,  95,  96,  97,  98,  99, 100, 101, 102, 103, 104,\n",
       "        105, 106, 107, 108, 109, 110, 111, 112, 113, 114, 115, 116, 117,\n",
       "        118, 119, 120, 121, 122, 123, 124, 125, 126, 127, 128, 129, 130,\n",
       "        131, 132, 133, 134, 135, 136, 137, 138, 139, 140, 141, 142, 143,\n",
       "        144, 145, 146, 147, 148, 149, 150, 151, 152, 153, 154, 155, 156,\n",
       "        157, 158, 159, 160, 161, 162, 163, 164, 165, 166, 167, 168, 169,\n",
       "        170, 171, 172, 173, 174, 175, 176, 177, 178, 179, 180, 181, 182,\n",
       "        183, 184, 185, 186, 187, 188, 189, 190, 191, 192, 193, 194, 195,\n",
       "        196, 197, 198, 199, 200, 201, 202, 203, 204, 205, 206, 207, 208,\n",
       "        209, 210, 211, 212, 213, 214, 215, 216, 217, 218, 219, 220, 221,\n",
       "        222, 223, 224, 225, 226, 227, 228, 229, 230, 231, 232, 233, 234,\n",
       "        235, 236, 237, 238, 239, 240, 241, 242, 243, 244, 245, 246, 247,\n",
       "        248, 249, 250, 251, 252, 253, 254, 255, 256, 257, 258, 259, 260,\n",
       "        261, 262, 263, 264, 265, 266, 267, 268, 269, 270, 271, 272, 273,\n",
       "        274, 275, 276, 277, 278, 279, 280, 281, 282, 283, 284, 285, 286,\n",
       "        287, 288, 289, 290, 291, 292, 293, 294, 295, 296, 297, 298, 299,\n",
       "        300, 301, 302, 303, 304, 305, 306, 307, 308, 309, 310, 311, 312,\n",
       "        313, 314, 315, 316, 317, 318, 319, 320, 321, 322, 323, 324, 325,\n",
       "        326, 327, 328, 329, 330, 331, 332, 333, 334, 335, 336, 337, 338,\n",
       "        339, 340, 341, 342, 343, 344, 345, 346, 347, 348, 349, 350, 351,\n",
       "        352, 353, 354, 355, 356, 357, 358, 359, 360, 361, 362, 363, 364,\n",
       "        365, 366, 367, 368, 369, 370, 371, 372, 373, 374, 375, 376, 377,\n",
       "        378, 379, 380, 381, 382, 383, 384, 385, 386, 387]))"
      ]
     },
     "execution_count": 6,
     "metadata": {},
     "output_type": "execute_result"
    }
   ],
   "source": [
    "histData = np.histogram(nCodeLines, np.arange(min(nCodeLines),max(nCodeLines)+1))\n",
    "histData"
   ]
  },
  {
   "cell_type": "code",
   "execution_count": 20,
   "metadata": {},
   "outputs": [
    {
     "data": {
      "text/plain": [
       "Text(0.5,0,'Number of Haskell Expressions Writtern')"
      ]
     },
     "execution_count": 20,
     "metadata": {},
     "output_type": "execute_result"
    },
    {
     "data": {
      "image/png": "[encoded data removed]",
      "text/plain": [
       "<Figure size 864x432 with 1 Axes>"
      ]
     },
     "metadata": {},
     "output_type": "display_data"
    }
   ],
   "source": [
    "fig, ax = plt.subplots(figsize=(12,6))\n",
    "ax.hist(nCodeLines, bins=np.arange(1,400,5))\n",
    "ax.set_xlim(0,400)\n",
    "ax.set_title(\"Number of lines of code per user\")\n",
    "ax.set_ylabel(\"Number of Users\")\n",
    "ax.set_xlabel(\"Number of Haskell Expressions Writtern\")"
   ]
  },
  {
   "cell_type": "markdown",
   "metadata": {},
   "source": [
    "## Test for Repeated Input"
   ]
  },
  {
   "cell_type": "code",
   "execution_count": 8,
   "metadata": {},
   "outputs": [
    {
     "name": "stdout",
     "output_type": "stream",
     "text": [
      "number of only unique entries captured per user: 760. Number of users: 3232\n"
     ]
    }
   ],
   "source": [
    "nAllUnique = 0\n",
    "for user in data:\n",
    "    inputs = []\n",
    "    for record in data[user]:\n",
    "        inputs.append(record['input'])\n",
    "    if len(inputs) == len(set(inputs)):\n",
    "        nAllUnique += 1\n",
    "\n",
    "print(\"number of only unique entries captured per user: {0}. Number of users: {1}\".format(nAllUnique, len(data)))"
   ]
  },
  {
   "cell_type": "code",
   "execution_count": 9,
   "metadata": {},
   "outputs": [
    {
     "data": {
      "text/plain": [
       "([<matplotlib.patches.Wedge at 0x7f15f6c76470>,\n",
       "  <matplotlib.patches.Wedge at 0x7f15f6c76940>],\n",
       " [Text(0.813249,0.740693,'Only unique entries for user'),\n",
       "  Text(-0.813249,-0.740693,'Repeating inputs for same user')])"
      ]
     },
     "execution_count": 9,
     "metadata": {},
     "output_type": "execute_result"
    },
    {
     "data": {
      "image/png": "[encoded data removed]",
      "text/plain": [
       "<Figure size 720x720 with 1 Axes>"
      ]
     },
     "metadata": {},
     "output_type": "display_data"
    }
   ],
   "source": [
    "fix, ax = plt.subplots(figsize=(10,10))\n",
    "ax.pie([nAllUnique, len(data)-nAllUnique], labels=[\"Only unique entries for user\", \"Repeating inputs for same user\"])"
   ]
  },
  {
   "cell_type": "markdown",
   "metadata": {},
   "source": [
    "Possibly suggesting that the input for each user is not coming from the same person, as it is unlikely that the user will enter the same values twice. However, it may also be possible that users are typing the same input repeatedly, for example if they feel as though the MOOC response is too slow."
   ]
  },
  {
   "cell_type": "markdown",
   "metadata": {},
   "source": [
    "## Number of Unique Lines of Code"
   ]
  },
  {
   "cell_type": "code",
   "execution_count": 15,
   "metadata": {},
   "outputs": [
    {
     "data": {
      "text/plain": [
       "149"
      ]
     },
     "execution_count": 15,
     "metadata": {},
     "output_type": "execute_result"
    }
   ],
   "source": [
    "nUniqueLines = []\n",
    "for user in data:\n",
    "    inputs = []\n",
    "    for record in data[user]:\n",
    "        inputs.append(record['input'])\n",
    "    nUniqueLines.append(len(set(inputs)))\n",
    "\n",
    "max(np.subtract(nCodeLines,nUniqueLines))"
   ]
  },
  {
   "cell_type": "code",
   "execution_count": 11,
   "metadata": {},
   "outputs": [
    {
     "data": {
      "text/plain": [
       "(array([ 3,  7,  5,  8,  6, 14, 20, 13, 26, 35, 35, 27, 29, 39, 45, 36, 52,\n",
       "        43, 48, 49, 58, 65, 55, 50, 48, 56, 53, 50, 54, 54, 54, 55, 45, 51,\n",
       "        58, 47, 61, 52, 55, 60, 50, 51, 57, 50, 53, 43, 47, 37, 52, 40, 59,\n",
       "        35, 47, 41, 48, 42, 37, 31, 31, 35, 29, 41, 34, 34, 35, 30, 20, 19,\n",
       "        17, 17, 23, 19, 21, 17, 16, 17,  7, 18, 20, 12, 18, 10, 14, 14,  6,\n",
       "        14, 11,  7,  7,  7, 11,  7,  6,  8,  6,  8, 11,  6,  6,  2,  2,  5,\n",
       "         4,  4,  6,  1,  4,  4,  6,  3,  3,  2,  6,  5,  0,  4,  1,  2,  0,\n",
       "         1,  0,  3,  0,  0,  1,  0,  1,  1,  1,  0,  1,  1,  1,  1,  0,  3,\n",
       "         2,  0,  0,  1,  4,  0,  0,  1,  0,  0,  0,  0,  0,  2,  0,  0,  1,\n",
       "         1,  0,  1,  0,  1,  0,  0,  1,  0,  0,  0,  0,  2,  0,  0,  0,  0,\n",
       "         0,  0,  0,  0,  0,  0,  0,  1,  1,  0,  0,  0,  0,  0,  1,  0,  0,\n",
       "         0,  0,  1,  0,  0,  0,  0,  0,  0,  0,  0,  0,  0,  0,  0,  0,  0,\n",
       "         0,  0,  0,  0,  0,  0,  0,  0,  0,  0,  0,  0,  0,  0,  1,  0,  0,\n",
       "         0,  0,  0,  0,  0,  0,  0,  0,  0,  0,  0,  0,  0,  0,  0,  1]),\n",
       " array([  1,   2,   3,   4,   5,   6,   7,   8,   9,  10,  11,  12,  13,\n",
       "         14,  15,  16,  17,  18,  19,  20,  21,  22,  23,  24,  25,  26,\n",
       "         27,  28,  29,  30,  31,  32,  33,  34,  35,  36,  37,  38,  39,\n",
       "         40,  41,  42,  43,  44,  45,  46,  47,  48,  49,  50,  51,  52,\n",
       "         53,  54,  55,  56,  57,  58,  59,  60,  61,  62,  63,  64,  65,\n",
       "         66,  67,  68,  69,  70,  71,  72,  73,  74,  75,  76,  77,  78,\n",
       "         79,  80,  81,  82,  83,  84,  85,  86,  87,  88,  89,  90,  91,\n",
       "         92,  93,  94,  95,  96,  97,  98,  99, 100, 101, 102, 103, 104,\n",
       "        105, 106, 107, 108, 109, 110, 111, 112, 113, 114, 115, 116, 117,\n",
       "        118, 119, 120, 121, 122, 123, 124, 125, 126, 127, 128, 129, 130,\n",
       "        131, 132, 133, 134, 135, 136, 137, 138, 139, 140, 141, 142, 143,\n",
       "        144, 145, 146, 147, 148, 149, 150, 151, 152, 153, 154, 155, 156,\n",
       "        157, 158, 159, 160, 161, 162, 163, 164, 165, 166, 167, 168, 169,\n",
       "        170, 171, 172, 173, 174, 175, 176, 177, 178, 179, 180, 181, 182,\n",
       "        183, 184, 185, 186, 187, 188, 189, 190, 191, 192, 193, 194, 195,\n",
       "        196, 197, 198, 199, 200, 201, 202, 203, 204, 205, 206, 207, 208,\n",
       "        209, 210, 211, 212, 213, 214, 215, 216, 217, 218, 219, 220, 221,\n",
       "        222, 223, 224, 225, 226, 227, 228, 229, 230, 231, 232, 233, 234,\n",
       "        235, 236, 237, 238]))"
      ]
     },
     "execution_count": 11,
     "metadata": {},
     "output_type": "execute_result"
    }
   ],
   "source": [
    "uniqueHistData = np.histogram(nUniqueLines, np.arange(min(nUniqueLines),max(nUniqueLines)+1))\n",
    "uniqueHistData"
   ]
  },
  {
   "cell_type": "code",
   "execution_count": 18,
   "metadata": {},
   "outputs": [
    {
     "data": {
      "text/plain": [
       "Text(0.5,0,'Number of Haskell Expressions Writtern')"
      ]
     },
     "execution_count": 18,
     "metadata": {},
     "output_type": "execute_result"
    },
    {
     "data": {
      "image/png": "[encoded data removed]",
      "text/plain": [
       "<Figure size 864x432 with 1 Axes>"
      ]
     },
     "metadata": {},
     "output_type": "display_data"
    }
   ],
   "source": [
    "fig, ax = plt.subplots(figsize=(12,6))\n",
    "ax.hist(np.subtract(nCodeLines,nUniqueLines), bins=np.arange(1,150,1))\n",
    "ax.set_xlim(0,150)\n",
    "ax.set_title(\"Number of lines of code per user\")\n",
    "ax.set_ylabel(\"Number of Users\")\n",
    "ax.set_xlabel(\"Number of Haskell Expressions Writtern\")"
   ]
  },
  {
   "cell_type": "markdown",
   "metadata": {},
   "source": [
    "### The users with > 20 non-unique lines of input"
   ]
  },
  {
   "cell_type": "code",
   "execution_count": 33,
   "metadata": {},
   "outputs": [
    {
     "name": "stdout",
     "output_type": "stream",
     "text": [
      "User ID: 4 Number of repeated lines: 149\n",
      "User ID: 12 Number of repeated lines: 24\n",
      "User ID: 46 Number of repeated lines: 48\n",
      "User ID: 59 Number of repeated lines: 43\n",
      "User ID: 67 Number of repeated lines: 29\n",
      "User ID: 71 Number of repeated lines: 27\n",
      "User ID: 75 Number of repeated lines: 25\n",
      "User ID: 79 Number of repeated lines: 21\n",
      "User ID: 95 Number of repeated lines: 36\n",
      "User ID: 107 Number of repeated lines: 23\n",
      "User ID: 109 Number of repeated lines: 32\n",
      "User ID: 110 Number of repeated lines: 108\n",
      "User ID: 206 Number of repeated lines: 40\n",
      "User ID: 211 Number of repeated lines: 41\n",
      "User ID: 212 Number of repeated lines: 40\n",
      "User ID: 221 Number of repeated lines: 46\n",
      "User ID: 222 Number of repeated lines: 44\n",
      "User ID: 290 Number of repeated lines: 25\n",
      "User ID: 292 Number of repeated lines: 22\n",
      "User ID: 299 Number of repeated lines: 43\n",
      "User ID: 308 Number of repeated lines: 42\n",
      "User ID: 324 Number of repeated lines: 27\n",
      "User ID: 327 Number of repeated lines: 26\n",
      "User ID: 343 Number of repeated lines: 22\n",
      "User ID: 345 Number of repeated lines: 26\n",
      "User ID: 354 Number of repeated lines: 26\n",
      "User ID: 363 Number of repeated lines: 21\n",
      "User ID: 393 Number of repeated lines: 21\n",
      "User ID: 411 Number of repeated lines: 21\n",
      "User ID: 412 Number of repeated lines: 21\n",
      "User ID: 444 Number of repeated lines: 25\n",
      "User ID: 473 Number of repeated lines: 54\n",
      "User ID: 482 Number of repeated lines: 22\n",
      "User ID: 584 Number of repeated lines: 24\n",
      "User ID: 587 Number of repeated lines: 30\n",
      "User ID: 603 Number of repeated lines: 24\n",
      "User ID: 638 Number of repeated lines: 25\n",
      "User ID: 658 Number of repeated lines: 42\n",
      "User ID: 827 Number of repeated lines: 45\n",
      "User ID: 959 Number of repeated lines: 22\n",
      "User ID: 1036 Number of repeated lines: 82\n",
      "User ID: 1051 Number of repeated lines: 25\n",
      "User ID: 1080 Number of repeated lines: 32\n",
      "User ID: 1114 Number of repeated lines: 25\n",
      "User ID: 1141 Number of repeated lines: 28\n",
      "User ID: 1251 Number of repeated lines: 22\n",
      "User ID: 1297 Number of repeated lines: 44\n",
      "User ID: 1362 Number of repeated lines: 53\n",
      "User ID: 1386 Number of repeated lines: 45\n",
      "User ID: 1442 Number of repeated lines: 21\n",
      "User ID: 1506 Number of repeated lines: 29\n",
      "User ID: 1513 Number of repeated lines: 26\n",
      "User ID: 2142 Number of repeated lines: 27\n",
      "User ID: 3016 Number of repeated lines: 23\n",
      "User ID: 3071 Number of repeated lines: 37\n",
      "User ID: 3113 Number of repeated lines: 24\n"
     ]
    }
   ],
   "source": [
    "for user, nUnique in zip(data.keys(), np.subtract(nCodeLines,nUniqueLines)):\n",
    "    if nUnique > 20:\n",
    "        print(\"User ID: {} Number of repeated lines: {}\".format(user, nUnique))"
   ]
  },
  {
   "cell_type": "code",
   "execution_count": 54,
   "metadata": {},
   "outputs": [
    {
     "data": {
      "text/plain": [
       "[('getLine', 9),\n",
       " ('do { putStrLn \"what is your name?\"; x <- getLine; putStrLn (\"hello \" ++ x) }',\n",
       "  9),\n",
       " ('let {sum xs  =  foldr (+) 0 xs;product xs  =  foldr (*) 1 xs } in foldl (\\\\acc elt -> elt:acc) \"\" \"Reversing a string\"',\n",
       "  7),\n",
       " ('do { putStrLn \"what is your name?\"; n<-getLine; let nUpper = map toUpper n in putStrLn (\"HELLO \" ++ nUpper) }',\n",
       "  6),\n",
       " ('putStrLn (show (6*7))', 6),\n",
       " ('read \"42\" :: Int', 6),\n",
       " ('let { } in foldl (\\\\acc elt -> elt:acc) \"\" \"Reversing a string\"', 6),\n",
       " ('let { } in not (not False)', 5),\n",
       " ('putStrLn (\"good \" ++ \"morning\" ++ \" everyone\")', 5),\n",
       " ('let { } in filter (<5) [3,9,2,12,6,4]', 5),\n",
       " ('do line <- getLine; putStrLn line', 4),\n",
       " ('let { } in True || False', 4),\n",
       " ('let { } in True `xor` False', 4),\n",
       " ('let { } in not True', 4),\n",
       " ('show 42', 4)]"
      ]
     },
     "execution_count": 54,
     "metadata": {},
     "output_type": "execute_result"
    }
   ],
   "source": [
    "Counter([a['input'] for a in data['4']]).most_common(15)"
   ]
  },
  {
   "cell_type": "code",
   "execution_count": 49,
   "metadata": {},
   "outputs": [
    {
     "data": {
      "text/plain": [
       "'2016-09-21'"
      ]
     },
     "execution_count": 49,
     "metadata": {},
     "output_type": "execute_result"
    }
   ],
   "source": [
    "data['4'][0]['timestamp'][:10]"
   ]
  },
  {
   "cell_type": "code",
   "execution_count": 65,
   "metadata": {},
   "outputs": [
    {
     "data": {
      "text/plain": [
       "<BarContainer object of 11 artists>"
      ]
     },
     "execution_count": 65,
     "metadata": {},
     "output_type": "execute_result"
    },
    {
     "data": {
      "image/png": "[encoded data removed]",
      "text/plain": [
       "<Figure size 432x288 with 1 Axes>"
      ]
     },
     "metadata": {},
     "output_type": "display_data"
    }
   ],
   "source": [
    "user4times = []\n",
    "for ob in data['4']:\n",
    "    user4times.append(datetime.datetime.strptime(ob['timestamp'][:10], \"%Y-%m-%d\").date())\n",
    "\n",
    "plt.bar(Counter(user4times).keys(),Counter(user4times).values())"
   ]
  },
  {
   "cell_type": "markdown",
   "metadata": {},
   "source": [
    "## Timeline of MOOC"
   ]
  },
  {
   "cell_type": "code",
   "execution_count": 81,
   "metadata": {},
   "outputs": [],
   "source": [
    "timestamps = []\n",
    "for user in data:\n",
    "    temp = []\n",
    "    for obj in data[user]:\n",
    "        temp.append(datetime.datetime.strptime(obj['timestamp'][:10], \"%Y-%m-%d\").date())\n",
    "    timestamps.extend(set(temp))"
   ]
  },
  {
   "cell_type": "code",
   "execution_count": 82,
   "metadata": {},
   "outputs": [],
   "source": [
    "dateCount = Counter(timestamps)"
   ]
  },
  {
   "cell_type": "code",
   "execution_count": 85,
   "metadata": {},
   "outputs": [
    {
     "data": {
      "text/plain": [
       "Text(0.5,0,'Date')"
      ]
     },
     "execution_count": 85,
     "metadata": {},
     "output_type": "execute_result"
    },
    {
     "data": {
      "image/png": "[encoded data removed]",
      "text/plain": [
       "<Figure size 864x432 with 1 Axes>"
      ]
     },
     "metadata": {},
     "output_type": "display_data"
    }
   ],
   "source": [
    "fig, ax = plt.subplots(figsize=(12,6))\n",
    "ax.bar(dateCount.keys(), dateCount.values())\n",
    "ax.set_xlim(min(dateCount.keys())-datetime.timedelta(1), max(dateCount.keys())+datetime.timedelta(1))\n",
    "ax.set_title(\"Number of Users Participating in MOOC per Day\")\n",
    "ax.set_ylabel(\"Number of Users\")\n",
    "ax.set_xlabel(\"Date\")"
   ]
  },
  {
   "cell_type": "markdown",
   "metadata": {},
   "source": [
    "Interestingly, Monday is the most popular day"
   ]
  }
 ],
 "metadata": {
  "kernelspec": {
   "display_name": "Python 3",
   "language": "python",
   "name": "python3"
  },
  "language_info": {
   "codemirror_mode": {
    "name": "ipython",
    "version": 3
   },
   "file_extension": ".py",
   "mimetype": "text/x-python",
   "name": "python",
   "nbconvert_exporter": "python",
   "pygments_lexer": "ipython3",
   "version": "3.6.5"
  }
 },
 "nbformat": 4,
 "nbformat_minor": 2
}
